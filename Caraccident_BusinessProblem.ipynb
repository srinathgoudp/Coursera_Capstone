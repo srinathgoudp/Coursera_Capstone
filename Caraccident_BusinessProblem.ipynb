{
    "cells": [
        {
            "cell_type": "markdown",
            "metadata": {
                "collapsed": true
            },
            "source": "# Capstone Project - Car accident severity (Week 1)"
        },
        {
            "cell_type": "markdown",
            "metadata": {},
            "source": "## Introduction/Business Problem"
        },
        {
            "cell_type": "markdown",
            "metadata": {},
            "source": "There are increase in Car accidents in todays world due to the increasing number of vehicles, bad Roads or bad weather, \nthe reckless driving and many more factors. The vehicle count on road today is much larger than it used to be 10 years ago. \nThe costs of injuries due to traffic accidents have a great impact on the society."
        },
        {
            "cell_type": "markdown",
            "metadata": {},
            "source": "The predictive analysis performed here aims towards analyzing the \u201cSeverity\u201d of the accident/collision based on road conditions, \nlighting conditions, area of collision, number of people involved and many more factors as such.\nKnowing the severity of any such collision before hand will lead to prevention and prompt action.\nIn recent years, reachers and data scientists have paid attention to  factors that caused the traffic accidents.\nApplying data mining techniques to model traffic accident data records can help to understand the characteristics of driver's behaviour, \nroadway condition and weather condition that were causally connected with different injury severity."
        }
    ],
    "metadata": {
        "kernelspec": {
            "display_name": "Python 3.6",
            "language": "python",
            "name": "python3"
        },
        "language_info": {
            "codemirror_mode": {
                "name": "ipython",
                "version": 3
            },
            "file_extension": ".py",
            "mimetype": "text/x-python",
            "name": "python",
            "nbconvert_exporter": "python",
            "pygments_lexer": "ipython3",
            "version": "3.6.9"
        }
    },
    "nbformat": 4,
    "nbformat_minor": 1
}