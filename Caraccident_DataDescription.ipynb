{
    "cells": [
        {
            "cell_type": "markdown",
            "metadata": {
                "collapsed": true
            },
            "source": "# Capstone Project - Car accident severity (Week 1)"
        },
        {
            "cell_type": "code",
            "execution_count": null,
            "metadata": {},
            "outputs": [],
            "source": "## Describe Data"
        },
        {
            "cell_type": "markdown",
            "metadata": {},
            "source": "The data was collected from Seattle police department, and our predictor will be 'SEVERITYCODE',which contains different levels \nof severity of an accident from 0 to 5 within the dataset. Attributes used to weigh the severity of an accident are 'WEATHER','ROADCOND',\nand'LIGHTCOND'."
        },
        {
            "cell_type": "markdown",
            "metadata": {},
            "source": "Severity codes are as following:\n    - 0: Little to no Probability (Clear Conditions)\n    - 1: Very Low Probability \u2014 Chance or Property Damage\n    - 2: Low Probability \u2014 Chance of Injury\n    - 3: Mild Probability \u2014 Chance of Serious Injury\n    - 4: High Probability \u2014 Chance of Fatality"
        },
        {
            "cell_type": "markdown",
            "metadata": {},
            "source": "All the collision data used in this analysis is taken from ArcGIS, which was provided by Seattle Police Department\nand recorded by traffic records. The data provided is that of collisions which took place in the city of Seattle, \nfrom year 2004 till present.<br>\nMentioned below is list of features that was available in the raw data:"
        },
        {
            "cell_type": "code",
            "execution_count": null,
            "metadata": {},
            "outputs": [],
            "source": "<table cellspacing=0 border=1>\n<tr>\n<td ></td>\n<td >SEVERITYCODE</td>\n<td >Target Column (1: Property Damage Only Collision, 2: Injury Collision)</td>\n</tr>\n<tr>\n<td ></td>\n<td >SEVERITYCODE.1</td>\n<td >Copy of Target Column</td>\n</tr>\n<tr>\n<td ></td>\n<td >SEVERITYDESC</td>\n<td >Description of Target Column</td>\n</tr>\n<tr>\n<td ></td>\n<td >SDOTCOLNUM</td>\n<td >A number given to the collision by SDOT</td>\n</tr>\n<tr>\n<td ></td>\n<td >JUNCTIONTYPE</td>\n<td >Category of junction at which collision took place</td>\n</tr>\n<tr>\n<td ></td>\n<td >X, Y</td>\n<td >Coordinate of accident</td>\n</tr>\n<tr>\n<td ></td>\n<td >LIGHTCOND</td>\n<td >The light conditions during the collision</td>\n</tr>\n<tr>\n<td ></td>\n<td >WEATHER</td>\n<td >A description of the weather conditions during the time of the collision</td>\n</tr>\n<tr>\n<td ></td>\n<td >ROADCOND</td>\n<td >The condition of the road during the collision</td>\n</tr>\n<tr>\n<td ></td>\n<td >ST_COLCODE</td>\n<td >A code provided by the state that describes the collision</td>\n</tr>\n<tr>\n<td ></td>\n<td >ST_COLDESC</td>\n<td >A description that corresponds to the state's coding designation</td>\n</tr>\n<tr>\n<td ></td>\n<td >COLLISIONTYPE</td>\n<td >Collision type</td>\n</tr>\n<tr>\n<td ></td>\n<td >UNDERINFL</td>\n<td >Whether or not a driver involved was under the influence of drugs or alcohol</td>\n</tr>\n<tr>\n<td ></td>\n<td >LOCATION</td>\n<td >Description of the general location of the collision/address</td>\n</tr>\n<tr>\n<td ></td>\n<td >ADDRTYPE</td>\n<td >Collision address type (Alley, Block, Intersection)</td>\n</tr>\n<tr>\n<td ></td>\n<td >SDOT_COLCODE</td>\n<td >A code given to the collision by SDOT</td>\n</tr>\n<tr>\n<td ></td>\n<td >SDOT_COLDESC</td>\n<td >A description of the collision corresponding to the collision code</td>\n</tr>\n<tr>\n<td ></td>\n<td >SEGLANEKEY</td>\n<td >A key for the lane segment in which the collision occurred</td>\n</tr>\n<tr>\n<td ></td>\n<td >CROSSWALKKEY</td>\n<td >A key for the crosswalk at which the collision occurred</td>\n</tr>\n<tr>\n<td ></td>\n<td >VEHCOUNT</td>\n<td >The number of vehicles involved in the collision</td>\n</tr>\n<tr>\n<td ></td>\n<td >INCDTTM</td>\n<td >The date and time of the incident</td>\n</tr>\n<tr>\n<td ></td>\n<td >INCDATE</td>\n<td >The date of the incident</td>\n</tr>\n<tr>\n<td ></td>\n<td >PEDCYLCOUNT</td>\n<td >The number of bicycles involved in the collision</td>\n</tr>\n<tr>\n<td ></td>\n<td >PEDCOUNT</td>\n<td >The number of pedestrians involved in the collision</td>\n</tr>\n<tr>\n<td ></td>\n<td >PERSONCOUNT</td>\n<td >The total number of people involved in the collision</td>\n</tr>\n<tr>\n<td ></td>\n<td >STATUS</td>\n<td >(Matched, Unmatched) ***</td>\n</tr>\n<tr>\n<td ></td>\n<td >REPORTNO</td>\n<td >Report identifier</td>\n</tr>\n<tr>\n<td ></td>\n<td >COLDETKEY</td>\n<td >Secondary Key for incident</td>\n</tr>\n<tr>\n<td ></td>\n<td >INCKEY</td>\n<td >Unique key for incident</td>\n</tr>\n<tr>\n<td ></td>\n<td >OBJECTID</td>\n<td >ESRI unique identifier</td>\n</tr>\n<tr>\n<td ></td>\n<td >HITPARKEDCAR</td>\n<td >Whether or not the collision involved hitting a parked car</td>\n</tr>\n<tr>\n<td ></td>\n<td >EXCEPTRSNCODE</td>\n<td >***</td>\n</tr>\n<tr>\n<td ></td>\n<td >EXCEPTRSNDESC</td>\n<td >***</td>\n</tr>\n<tr>\n<td ></td>\n<td >PEDROWNOTGRNT</td>\n<td >Whether or not the pedestrian right of way was not granted</td>\n</tr>\n<tr>\n<td ></td>\n<td >SPEEDING</td>\n<td >Whether or not speeding was a factor in the collision</td>\n</tr>\n<tr>\n<td ></td>\n<td >INATTENTIONIND</td>\n<td >Whether or not collision was due to inattention</td>\n</tr>\n<tr>\n<td ></td>\n<td >INTKEY</td>\n<td >Key that corresponds to the intersection associated with a collision</td>\n</tr>\n\t\t\t</table>"
        },
        {
            "cell_type": "markdown",
            "metadata": {},
            "source": "There are in total 38 data columns in the dataset including the 3 target related columns.We will keep various aspects in mind \nwhile deciding the importance of a particular column or the transformation it may need before we feed it to the model.<br>\n\nSome of the given data columns are features related to or identifying a single particular accident, thus may not be very much useful\nfor our predictive analysis. These features include:\nSDOTCOLNUM, Coordinates, LOCATION, INCDTTM, INCDATE, REPORTNO, COLDETKEY, INCKEY, OBJECTID.<br>\n\nThere are some description columns for a given code. Columns ST_COLDESC, SDOT_COLDESC and EXCEPTRSNDESC are description columns for \ncode which is already specified in the given dataset.<br>\n\nThere are also data columns which has missing data in abundance. Column EXCEPTRSNCODE, EXCEPTRSNDESC, PEDROWNOTGRNT, SPEEDING, \nINATTENTIONIND and INTKEY have more than 50% of data missing. Although few of these columns can be very crucial indicator of collision \nseverity, it would be misguiding to use it with so many missing rows and very difficult to fill in these categorical values.<br>\n\nColumns mentioned in all the three categories above will not be used in the model that we are going to build. Most of the columns that \nremains are categorical and will require one-hot and label encoding before we can use them as a feature for our model."
        }
    ],
    "metadata": {
        "kernelspec": {
            "display_name": "Python 3.6",
            "language": "python",
            "name": "python3"
        },
        "language_info": {
            "codemirror_mode": {
                "name": "ipython",
                "version": 3
            },
            "file_extension": ".py",
            "mimetype": "text/x-python",
            "name": "python",
            "nbconvert_exporter": "python",
            "pygments_lexer": "ipython3",
            "version": "3.6.9"
        }
    },
    "nbformat": 4,
    "nbformat_minor": 1
}