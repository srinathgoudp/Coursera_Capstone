{
    "cells": [
        {
            "cell_type": "markdown",
            "metadata": {
                "collapsed": true
            },
            "source": "# Capstone Project - Car accident severity (Week 1)"
        },
        {
            "cell_type": "markdown",
            "metadata": {},
            "source": "## Describe Data"
        },
        {
            "cell_type": "markdown",
            "metadata": {},
            "source": "The data was collected from Seattle police department, and our predictor will be 'SEVERITYCODE',which contains different levels \nof severity of an accident from 0 to 5 within the dataset. Attributes used to weigh the severity of an accident are 'WEATHER','ROADCOND',\nand'LIGHTCOND'."
        },
        {
            "cell_type": "markdown",
            "metadata": {},
            "source": "Severity codes are as following:\n    - 0: Little to no Probability (Clear Conditions)\n    - 1: Very Low Probability \u2014 Chance or Property Damage\n    - 2: Low Probability \u2014 Chance of Injury\n    - 3: Mild Probability \u2014 Chance of Serious Injury\n    - 4: High Probability \u2014 Chance of Fatality"
        },
        {
            "cell_type": "markdown",
            "metadata": {},
            "source": "All the collision data used in this analysis is taken from ArcGIS, which was provided by Seattle Police Department\nand recorded by traffic records. The data provided is that of collisions which took place in the city of Seattle, \nfrom year 2004 till present.<br>\nMentioned below is list of features that was available in the raw data:"
        },
        {
            "cell_type": "markdown",
            "metadata": {},
            "source": "<table cellspacing=0 border=1 aling='left'>\n<tr>\n<td style=min-width:50px></td>\n<td style=min-width:50px>SEVERITYCODE</td>\n<td style=min-width:50px>Target Column (1: Property Damage Only Collision, 2: Injury Collision)</td>\n</tr>\n<tr>\n<td style=min-width:50px></td>\n<td style=min-width:50px>SEVERITYCODE.1</td>\n<td style=min-width:50px>Copy of Target Column</td>\n</tr>\n<tr>\n<td style=min-width:50px></td>\n<td style=min-width:50px>SEVERITYDESC</td>\n<td style=min-width:50px>Description of Target Column</td>\n</tr>\n<tr>\n<td style=min-width:50px></td>\n<td style=min-width:50px>SDOTCOLNUM</td>\n<td style=min-width:50px>A number given to the collision by SDOT</td>\n</tr>\n<tr>\n<td style=min-width:50px></td>\n<td style=min-width:50px>JUNCTIONTYPE</td>\n<td style=min-width:50px>Category of junction at which collision took place</td>\n</tr>\n<tr>\n<td style=min-width:50px></td>\n<td style=min-width:50px>X, Y</td>\n<td style=min-width:50px>Coordinate of accident</td>\n</tr>\n<tr>\n<td style=min-width:50px></td>\n<td style=min-width:50px>LIGHTCOND</td>\n<td style=min-width:50px>The light conditions during the collision</td>\n</tr>\n<tr>\n<td style=min-width:50px></td>\n<td style=min-width:50px>WEATHER</td>\n<td style=min-width:50px>A description of the weather conditions during the time of the collision</td>\n</tr>\n<tr>\n<td style=min-width:50px></td>\n<td style=min-width:50px>ROADCOND</td>\n<td style=min-width:50px>The condition of the road during the collision</td>\n</tr>\n<tr>\n<td style=min-width:50px></td>\n<td style=min-width:50px>ST_COLCODE</td>\n<td style=min-width:50px>A code provided by the state that describes the collision</td>\n</tr>\n<tr>\n<td style=min-width:50px></td>\n<td style=min-width:50px>ST_COLDESC</td>\n<td style=min-width:50px>A description that corresponds to the state's coding designation</td>\n</tr>\n<tr>\n<td style=min-width:50px></td>\n<td style=min-width:50px>COLLISIONTYPE</td>\n<td style=min-width:50px>Collision type</td>\n</tr>\n<tr>\n<td style=min-width:50px></td>\n<td style=min-width:50px>UNDERINFL</td>\n<td style=min-width:50px>Whether or not a driver involved was under the influence of drugs or alcohol</td>\n</tr>\n<tr>\n<td style=min-width:50px></td>\n<td style=min-width:50px>LOCATION</td>\n<td style=min-width:50px>Description of the general location of the collision/address</td>\n</tr>\n<tr>\n<td style=min-width:50px></td>\n<td style=min-width:50px>ADDRTYPE</td>\n<td style=min-width:50px>Collision address type (Alley, Block, Intersection)</td>\n</tr>\n<tr>\n<td style=min-width:50px></td>\n<td style=min-width:50px>SDOT_COLCODE</td>\n<td style=min-width:50px>A code given to the collision by SDOT</td>\n</tr>\n<tr>\n<td style=min-width:50px></td>\n<td style=min-width:50px>SDOT_COLDESC</td>\n<td style=min-width:50px>A description of the collision corresponding to the collision code</td>\n</tr>\n<tr>\n<td style=min-width:50px></td>\n<td style=min-width:50px>SEGLANEKEY</td>\n<td style=min-width:50px>A key for the lane segment in which the collision occurred</td>\n</tr>\n<tr>\n<td style=min-width:50px></td>\n<td style=min-width:50px>CROSSWALKKEY</td>\n<td style=min-width:50px>A key for the crosswalk at which the collision occurred</td>\n</tr>\n<tr>\n<td style=min-width:50px></td>\n<td style=min-width:50px>VEHCOUNT</td>\n<td style=min-width:50px>The number of vehicles involved in the collision</td>\n</tr>\n<tr>\n<td style=min-width:50px></td>\n<td style=min-width:50px>INCDTTM</td>\n<td style=min-width:50px>The date and time of the incident</td>\n</tr>\n<tr>\n<td style=min-width:50px></td>\n<td style=min-width:50px>INCDATE</td>\n<td style=min-width:50px>The date of the incident</td>\n</tr>\n<tr>\n<td style=min-width:50px></td>\n<td style=min-width:50px>PEDCYLCOUNT</td>\n<td style=min-width:50px>The number of bicycles involved in the collision</td>\n</tr>\n<tr>\n<td style=min-width:50px></td>\n<td style=min-width:50px>PEDCOUNT</td>\n<td style=min-width:50px>The number of pedestrians involved in the collision</td>\n</tr>\n<tr>\n<td style=min-width:50px></td>\n<td style=min-width:50px>PERSONCOUNT</td>\n<td style=min-width:50px>The total number of people involved in the collision</td>\n</tr>\n<tr>\n<td style=min-width:50px></td>\n<td style=min-width:50px>STATUS</td>\n<td style=min-width:50px>(Matched, Unmatched) ***</td>\n</tr>\n<tr>\n<td style=min-width:50px></td>\n<td style=min-width:50px>REPORTNO</td>\n<td style=min-width:50px>Report identifier</td>\n</tr>\n<tr>\n<td style=min-width:50px></td>\n<td style=min-width:50px>COLDETKEY</td>\n<td style=min-width:50px>Secondary Key for incident</td>\n</tr>\n<tr>\n<td style=min-width:50px></td>\n<td style=min-width:50px>INCKEY</td>\n<td style=min-width:50px>Unique key for incident</td>\n</tr>\n<tr>\n<td style=min-width:50px></td>\n<td style=min-width:50px>OBJECTID</td>\n<td style=min-width:50px>ESRI unique identifier</td>\n</tr>\n<tr>\n<td style=min-width:50px></td>\n<td style=min-width:50px>HITPARKEDCAR</td>\n<td style=min-width:50px>Whether or not the collision involved hitting a parked car</td>\n</tr>\n<tr>\n<td style=min-width:50px></td>\n<td style=min-width:50px>EXCEPTRSNCODE</td>\n<td style=min-width:50px>***</td>\n</tr>\n<tr>\n<td style=min-width:50px></td>\n<td style=min-width:50px>EXCEPTRSNDESC</td>\n<td style=min-width:50px>***</td>\n</tr>\n<tr>\n<td style=min-width:50px></td>\n<td style=min-width:50px>PEDROWNOTGRNT</td>\n<td style=min-width:50px>Whether or not the pedestrian right of way was not granted</td>\n</tr>\n<tr>\n<td style=min-width:50px></td>\n<td style=min-width:50px>SPEEDING</td>\n<td style=min-width:50px>Whether or not speeding was a factor in the collision</td>\n</tr>\n<tr>\n<td style=min-width:50px></td>\n<td style=min-width:50px>INATTENTIONIND</td>\n<td style=min-width:50px>Whether or not collision was due to inattention</td>\n</tr>\n<tr>\n<td style=min-width:50px></td>\n<td style=min-width:50px>INTKEY</td>\n<td style=min-width:50px>Key that corresponds to the intersection associated with a collision</td>\n</tr>\n\t\t\t</table>"
        },
        {
            "cell_type": "markdown",
            "metadata": {},
            "source": "There are in total 38 data columns in the dataset including the 3 target related columns.We will keep various aspects in mind \nwhile deciding the importance of a particular column or the transformation it may need before we feed it to the model.<br>\n\nSome of the given data columns are features related to or identifying a single particular accident, thus may not be very much useful\nfor our predictive analysis. These features include:\nSDOTCOLNUM, Coordinates, LOCATION, INCDTTM, INCDATE, REPORTNO, COLDETKEY, INCKEY, OBJECTID.<br>\n\nThere are some description columns for a given code. Columns ST_COLDESC, SDOT_COLDESC and EXCEPTRSNDESC are description columns for \ncode which is already specified in the given dataset.<br>\n\nThere are also data columns which has missing data in abundance. Column EXCEPTRSNCODE, EXCEPTRSNDESC, PEDROWNOTGRNT, SPEEDING, \nINATTENTIONIND and INTKEY have more than 50% of data missing. Although few of these columns can be very crucial indicator of collision \nseverity, it would be misguiding to use it with so many missing rows and very difficult to fill in these categorical values.<br>\n\nColumns mentioned in all the three categories above will not be used in the model that we are going to build. Most of the columns that \nremains are categorical and will require one-hot and label encoding before we can use them as a feature for our model."
        }
    ],
    "metadata": {
        "celltoolbar": "Raw Cell Format",
        "kernelspec": {
            "display_name": "Python 3.6",
            "language": "python",
            "name": "python3"
        },
        "language_info": {
            "codemirror_mode": {
                "name": "ipython",
                "version": 3
            },
            "file_extension": ".py",
            "mimetype": "text/x-python",
            "name": "python",
            "nbconvert_exporter": "python",
            "pygments_lexer": "ipython3",
            "version": "3.6.9"
        }
    },
    "nbformat": 4,
    "nbformat_minor": 1
}